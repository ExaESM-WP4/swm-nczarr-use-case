{
 "cells": [
  {
   "cell_type": "code",
   "execution_count": 3,
   "id": "fff21bde-124a-4c8f-a995-5278f18acf68",
   "metadata": {},
   "outputs": [],
   "source": [
    "import numpy as np\n",
    "import netCDF4 as nc"
   ]
  },
  {
   "cell_type": "code",
   "execution_count": 7,
   "id": "af1ff66d-2de7-4f90-ae2a-ce41e5d52128",
   "metadata": {},
   "outputs": [],
   "source": [
    "nx, ny = 101, 61\n",
    "lon_s, lon_e = -50, 0\n",
    "lat_s, lat_e = 15, 45\n",
    "\n",
    "# setup coordinates\n",
    "lon, lat = np.meshgrid(\n",
    "    np.linspace(lon_s, lon_e, nx),\n",
    "    np.linspace(lat_s, lat_e, ny)\n",
    ")"
   ]
  },
  {
   "cell_type": "code",
   "execution_count": 12,
   "id": "2bf7ebcd-51c9-476f-84cb-691973985f07",
   "metadata": {},
   "outputs": [],
   "source": [
    "# input wind stress\n",
    "tau_0 = 0.01\n",
    "tau_x = -tau_0 * np.cos((lat - 15.) * np.pi / 30.)"
   ]
  },
  {
   "cell_type": "code",
   "execution_count": 17,
   "id": "1f3b98bd-5262-4e61-a08f-3fd9a1ac906f",
   "metadata": {},
   "outputs": [],
   "source": [
    "def write_nc(fname, nc_format=\"NETCDF4\"):\n",
    "    with nc.Dataset(fname, mode='w', clobber=True, format=nc_format) as ds:\n",
    "        ds.createDimension('longitude', nx)\n",
    "        ds.createDimension('latitude', ny)\n",
    "\n",
    "        lon_var = ds.createVariable('longitude', 'f8', dimensions=('longitude',))\n",
    "        lon_var.units = \"degrees_east\"\n",
    "        lon_var.long_name = \"Longitude\"\n",
    "        lon_var[:] = lon[0, :]\n",
    "\n",
    "        lat_var = ds.createVariable('latitude', 'f8', dimensions=('latitude',))\n",
    "        lat_var.units = \"degrees_north\"\n",
    "        lat_var.long_name = \"Latitude\"\n",
    "        lat_var[:] = lat[:, 0]\n",
    "        \n",
    "        tau_var = ds.createVariable('tau_x', 'f8', dimensions=('latitude', 'longitude'))\n",
    "        tau_var[:] = tau_x\n",
    "        tau_var.units = \"N / m**2\"\n",
    "        tau_var.long_name = \"Zonal Windstress\"\n",
    "        \n",
    "        ds.description = \"Zonal windstress for SWM use case 1.\"\n",
    "        ds.contact = \"Martin Claus <mclaus@geomar.de>\""
   ]
  },
  {
   "cell_type": "code",
   "execution_count": 18,
   "id": "ef7cf592-d9cc-49a5-a3e3-bf9e196c0c2d",
   "metadata": {},
   "outputs": [],
   "source": [
    "write_nc(\"tau_x.nc3\", nc_format=\"NETCDF3_CLASSIC\")\n",
    "write_nc(\"tau_x.nc4\", nc_format=\"NETCDF4\")"
   ]
  }
 ],
 "metadata": {
  "kernelspec": {
   "display_name": "Python 3 (ipykernel)",
   "language": "python",
   "name": "python3"
  },
  "language_info": {
   "codemirror_mode": {
    "name": "ipython",
    "version": 3
   },
   "file_extension": ".py",
   "mimetype": "text/x-python",
   "name": "python",
   "nbconvert_exporter": "python",
   "pygments_lexer": "ipython3",
   "version": "3.9.10"
  }
 },
 "nbformat": 4,
 "nbformat_minor": 5
}
