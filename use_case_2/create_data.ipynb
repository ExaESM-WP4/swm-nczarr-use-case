{
 "cells": [
  {
   "cell_type": "code",
   "execution_count": 1,
   "id": "fff21bde-124a-4c8f-a995-5278f18acf68",
   "metadata": {},
   "outputs": [],
   "source": [
    "import requests"
   ]
  },
  {
   "cell_type": "code",
   "execution_count": 2,
   "id": "af1ff66d-2de7-4f90-ae2a-ce41e5d52128",
   "metadata": {},
   "outputs": [],
   "source": [
    "# download metadata from Zenodo\n",
    "zenodo_api_url = \"https://zenodo.org/api/records/5993239\"\n",
    "record = requests.get(zenodo_api_url).json()"
   ]
  },
  {
   "cell_type": "code",
   "execution_count": 20,
   "id": "a16b089e",
   "metadata": {},
   "outputs": [],
   "source": [
    "# download files via Zenodo API links\n",
    "for f_rec in record['files']:\n",
    "    fname = f_rec['key']\n",
    "    url = f_rec['links']['self']\n",
    "    response = requests.get(url)\n",
    "    with open(fname, mode='wb') as f_out:\n",
    "        f_out.write(response.content)"
   ]
  }
 ],
 "metadata": {
  "kernelspec": {
   "display_name": "Python 3 (ipykernel)",
   "language": "python",
   "name": "python3"
  },
  "language_info": {
   "codemirror_mode": {
    "name": "ipython",
    "version": 3
   },
   "file_extension": ".py",
   "mimetype": "text/x-python",
   "name": "python",
   "nbconvert_exporter": "python",
   "pygments_lexer": "ipython3",
   "version": "3.9.10"
  }
 },
 "nbformat": 4,
 "nbformat_minor": 5
}
